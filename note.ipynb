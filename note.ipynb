{
 "cells": [
  {
   "cell_type": "raw",
   "id": "ecfc89a4-42d7-441f-9720-4e74cc93b864",
   "metadata": {},
   "source": [
    "ProductionVolume: Sản lượng sản xuất (kiểu số nguyên).\n",
    "ProductionCost: Chi phí sản xuất (kiểu số thực).\n",
    "SupplierQuality: Chỉ số chất lượng nhà cung cấp (kiểu số thực).\n",
    "DeliveryDelay: Thời gian giao hàng chậm trễ (kiểu số nguyên, có thể tính bằng ngày).\n",
    "DefectRate: Tỷ lệ lỗi sản phẩm (kiểu số thực, có thể biểu thị theo tỷ lệ %).\n",
    "QualityScore: Điểm đánh giá chất lượng tổng thể (kiểu số thực).\n",
    "MaintenanceHours: Tổng số giờ bảo trì (kiểu số nguyên).\n",
    "DowntimePercentage: Phần trăm thời gian ngừng hoạt động (kiểu số thực, biểu thị tỷ lệ %).\n",
    "InventoryTurnover: Tỷ lệ quay vòng hàng tồn kho (kiểu số thực).\n",
    "StockoutRate: Tỷ lệ hết hàng (kiểu số thực, biểu thị tỷ lệ %).\n",
    "WorkerProductivity: Năng suất lao động (kiểu số thực, có thể biểu thị theo sản phẩm/giờ).\n",
    "SafetyIncidents: Số lượng sự cố an toàn (kiểu số nguyên).\n",
    "EnergyConsumption: Mức tiêu thụ năng lượng (kiểu số thực).\n",
    "EnergyEfficiency: Hiệu suất năng lượng (kiểu số thực).\n",
    "AdditiveProcessTime: Thời gian thực hiện quá trình bổ sung (kiểu số thực, đơn vị có thể là giờ).\n",
    "AdditiveMaterialCost: Chi phí vật liệu bổ sung (kiểu số thực).\n",
    "DefectStatus: Trạng thái lỗi (kiểu số nguyên, có thể là biến phân loại)."
   ]
  },
  {
   "cell_type": "code",
   "execution_count": null,
   "id": "6491f19c-8664-4c59-89f6-864cb5d2400f",
   "metadata": {},
   "outputs": [],
   "source": []
  }
 ],
 "metadata": {
  "kernelspec": {
   "display_name": "Python 3 (ipykernel)",
   "language": "python",
   "name": "python3"
  },
  "language_info": {
   "codemirror_mode": {
    "name": "ipython",
    "version": 3
   },
   "file_extension": ".py",
   "mimetype": "text/x-python",
   "name": "python",
   "nbconvert_exporter": "python",
   "pygments_lexer": "ipython3",
   "version": "3.12.4"
  }
 },
 "nbformat": 4,
 "nbformat_minor": 5
}
